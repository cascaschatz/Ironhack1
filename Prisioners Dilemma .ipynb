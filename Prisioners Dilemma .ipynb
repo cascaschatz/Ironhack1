{
 "cells": [
  {
   "cell_type": "code",
   "execution_count": null,
   "id": "d1243d16",
   "metadata": {},
   "outputs": [],
   "source": [
    "from random import choices, randint\n",
    "\n",
    "\n",
    "jogar = 'S'\n",
    "jogador_pts = comp_pts = rodadas = 0\n",
    "\n",
    "while jogar == 'S':\n",
    "    opcoes = ('A', 'Z')\n",
    "    \n",
    "    #escolhe oponente com diferentes perfis\n",
    "    computador_ingenuo = choices([0, 1],[0.75,0.25], k=1)[0]\n",
    "    computador_malandrao = choices([0, 1],[0.15,0.85], k=1)[0]\n",
    "    computador_neutro = randint(0,1)\n",
    "    computador = choices([computador_ingenuo, computador_malandrao, computador_neutro],[0.33,0.33,0.34], k=1)[0]\n",
    "    \n",
    "    \n",
    "    jogadorI = ''\n",
    "    lista = [0, 1]\n",
    "    jogadorI = input('Escolha sua ação: A ou Z? ')\n",
    "   \n",
    "    \n",
    "    if jogadorI == \"A\":\n",
    "        jogador = 0\n",
    "    else: jogador =1\n",
    "\n",
    "    resultado = (jogador,computador)   \n",
    "        \n",
    "    if resultado == (0,0):   #atribui pontos para a rodada e para o total de interações\n",
    "        minha_rodada = 1\n",
    "        jogador_pts += minha_rodada\n",
    "        comp_rodada= 1\n",
    "        comp_pts += comp_rodada\n",
    "\n",
    "    \n",
    "    elif resultado == (0,1):\n",
    "        minha_rodada =10\n",
    "        jogador_pts += minha_rodada\n",
    "        comp_rodada= 0\n",
    "        comp_pts += comp_rodada\n",
    "\n",
    "\n",
    "\n",
    "    elif resultado == (1,0):\n",
    "        minha_rodada = 0\n",
    "        jogador_pts += minha_rodada\n",
    "        comp_rodada = 10\n",
    "        comp_pts += comp_rodada\n",
    "\n",
    "\n",
    "\n",
    "            \n",
    "    else: \n",
    "        minha_rodada = 5\n",
    "        jogador_pts += minha_rodada\n",
    "        comp_rodada = 5\n",
    "        comp_pts += comp_rodada\n",
    "\n",
    "\n",
    "    print(f'\\nResultado dessa interação sua perda:{minha_rodada} perda do outro jogador:{comp_rodada}') \n",
    "        \n",
    "    rodadas +=1\n",
    "    \n",
    "    jogar = str(input('\\nDeseja continuar a jogar? '\n",
    "                      '[S/N] ')).upper().strip()[0]\n",
    "    \n",
    "else:\n",
    "    print(f'\\nVocê perdeu {jogador_pts} pontos com as interações, uma média de {jogador_pts/rodadas}') \n",
    "    \n",
    "    print(f'\\nO computador perdeu {comp_pts} pontos com as interações ')\n",
    "    \n",
    "    print(f'\\nCom trapaça você poderia não ter perdido pontos, mas o relacionamento com o oponente iria se deteriorar.')\n",
    "    \n",
    "    "
   ]
  },
  {
   "cell_type": "code",
   "execution_count": 11,
   "id": "df4b183a",
   "metadata": {},
   "outputs": [
    {
     "name": "stdout",
     "output_type": "stream",
     "text": [
      "Help on method randint in module random:\n",
      "\n",
      "randint(a, b) method of random.Random instance\n",
      "    Return random integer in range [a, b], including both end points.\n",
      "\n"
     ]
    }
   ],
   "source": [
    "help(randint)"
   ]
  },
  {
   "cell_type": "code",
   "execution_count": null,
   "id": "b7054e0d",
   "metadata": {},
   "outputs": [],
   "source": []
  }
 ],
 "metadata": {
  "kernelspec": {
   "display_name": "Python 3 (ipykernel)",
   "language": "python",
   "name": "python3"
  },
  "language_info": {
   "codemirror_mode": {
    "name": "ipython",
    "version": 3
   },
   "file_extension": ".py",
   "mimetype": "text/x-python",
   "name": "python",
   "nbconvert_exporter": "python",
   "pygments_lexer": "ipython3",
   "version": "3.9.12"
  },
  "toc": {
   "base_numbering": 1,
   "nav_menu": {},
   "number_sections": true,
   "sideBar": true,
   "skip_h1_title": false,
   "title_cell": "Table of Contents",
   "title_sidebar": "Contents",
   "toc_cell": false,
   "toc_position": {},
   "toc_section_display": true,
   "toc_window_display": false
  },
  "varInspector": {
   "cols": {
    "lenName": 16,
    "lenType": 16,
    "lenVar": 40
   },
   "kernels_config": {
    "python": {
     "delete_cmd_postfix": "",
     "delete_cmd_prefix": "del ",
     "library": "var_list.py",
     "varRefreshCmd": "print(var_dic_list())"
    },
    "r": {
     "delete_cmd_postfix": ") ",
     "delete_cmd_prefix": "rm(",
     "library": "var_list.r",
     "varRefreshCmd": "cat(var_dic_list()) "
    }
   },
   "types_to_exclude": [
    "module",
    "function",
    "builtin_function_or_method",
    "instance",
    "_Feature"
   ],
   "window_display": false
  }
 },
 "nbformat": 4,
 "nbformat_minor": 5
}
