{
 "cells": [
  {
   "cell_type": "code",
   "execution_count": 68,
   "id": "d1243d16",
   "metadata": {},
   "outputs": [
    {
     "name": "stdout",
     "output_type": "stream",
     "text": [
      "Escolha sua ação: A (1) ou Z (2)? 1\n",
      "\u001b[31mTCHAN\u001b[m\n",
      "\u001b[31mTCHAN\u001b[m\n",
      "\u001b[31mTCHAN RAN!!!\u001b[m\n",
      "\n",
      "Resultado dessa interação:  \n",
      "sua perda => 5 \n",
      "perda do outro jogador => 5\n",
      "Escolha sua ação: A (1) ou Z (2)? 2\n",
      "\u001b[31mTCHAN\u001b[m\n",
      "\u001b[31mTCHAN\u001b[m\n",
      "\u001b[31mTCHAN RAN!!!\u001b[m\n",
      "\n",
      "Resultado dessa interação:  \n",
      "sua perda => 5 \n",
      "perda do outro jogador => 5\n",
      "Escolha sua ação: A (1) ou Z (2)? 2\n",
      "\u001b[31mTCHAN\u001b[m\n",
      "\u001b[31mTCHAN\u001b[m\n",
      "\u001b[31mTCHAN RAN!!!\u001b[m\n",
      "\n",
      "Resultado dessa interação:  \n",
      "sua perda => 0 \n",
      "perda do outro jogador => 10\n",
      "\n",
      "Fim da partida!\n",
      "\n",
      "Nesta últiima partida, você perdeu 10 pontos com as interações, uma média de 3.3 por rodada\n",
      "\n",
      "Enquanto o computador  20 pontos, média de 6.7 por rodada\n",
      "\n",
      "Deseja jogar outra? [S/N] 2\n",
      "Digite um dado válido. Deseja continuar a jogar? [S/N] n\n",
      "\n",
      "Toma conselhos com o vinho, mas toma decisões com a água.\n",
      "Até uma próxima!\n"
     ]
    }
   ],
   "source": [
    "from random import choices, randint\n",
    "from time import sleep\n",
    "\n",
    "#'''\n",
    "#este é o jogo tal... funciona assim...\n",
    "#'''\n",
    "\n",
    "\n",
    "\n",
    "jogar = 'S'\n",
    "jogador_pts = comp_pts = rodadas = 0\n",
    "\n",
    "\n",
    "\n",
    "\n",
    "# define diferentes perfis de comportamento para o computador \n",
    "\n",
    "tipos={'computador_ingenuo':[0.75,0.25],\n",
    "       'computador_malandrao':[0.15,0.85],\n",
    "       'computador_neutro':[0.5,0.5]\n",
    "      }\n",
    "\n",
    "# cerca erro de entrada\n",
    "lista = [1,2]\n",
    "\n",
    "# armazena dados para análise \n",
    "\n",
    "dados_resultado_rodada = dados_resultado_partida = []\n",
    "\n",
    "while jogar == 'S':\n",
    "\n",
    "    # define, aleatoriamente, a quantidade de rodadas da partida\n",
    "    n_jogadas = randint(1,7) \n",
    "    \n",
    "    \n",
    "    # escolhe um dos perfis de comportamento para o computador adotar na partida \n",
    "    computador = choices(list(tipos.keys()),[0.33,0.33,0.34], k=1)[0] \n",
    "    \n",
    "    \n",
    "    # monta loop para uma partida com n_jogadas\n",
    "    for rod in range(n_jogadas):   \n",
    "        \n",
    "        # define a posição do oponente para a rodada \n",
    "        computador_escolha = choices([0, 1],tipos[computador], k=1)[0]\n",
    "        \n",
    "        \n",
    "        # define a posição do jogador humano\n",
    "        \n",
    "        jogadorI = ''\n",
    "        jogadorI = input('Escolha sua ação: A (1) ou Z (2)? ')\n",
    "        \n",
    "        # trata erro para a entrada do usuário e inclui delay para o jogo ganhar em mistério\n",
    "        \n",
    "        while jogador not in lista:\n",
    "            jogador = int(input('Digite um valor válido [1 ou 2]. Qual é a sua jogada? '))\n",
    "        print('\\033[31mTCHAN\\033[m')\n",
    "        sleep(.9)\n",
    "        print('\\033[31mTCHAN\\033[m')\n",
    "        sleep(.9)\n",
    "        print('\\033[31mTCHAN RAN!!!\\033[m')\n",
    "     \n",
    "        \n",
    "\n",
    "        if jogadorI == 1:\n",
    "            jogador = 0\n",
    "        else: jogador =1\n",
    "            \n",
    "            \n",
    "        #resultado da rodada\n",
    "        resultado = (jogador,computador_escolha)\n",
    "        dados_resultado_rodada.append(resultado)\n",
    "        \n",
    "        \n",
    "      \n",
    "        \n",
    "        \n",
    "        \n",
    "        if resultado == (0,0):   #atribui pontos para a rodada e para o total de interações\n",
    "            minha_rodada = 1\n",
    "            jogador_pts += minha_rodada\n",
    "            comp_rodada= 1\n",
    "            comp_pts += comp_rodada\n",
    "\n",
    "    \n",
    "        elif resultado == (0,1):\n",
    "            minha_rodada =10\n",
    "            jogador_pts += minha_rodada\n",
    "            comp_rodada= 0\n",
    "            comp_pts += comp_rodada\n",
    "\n",
    "\n",
    "\n",
    "        elif resultado == (1,0):\n",
    "            minha_rodada = 0\n",
    "            jogador_pts += minha_rodada\n",
    "            comp_rodada = 10\n",
    "            comp_pts += comp_rodada\n",
    "\n",
    "\n",
    "\n",
    "            \n",
    "        else: \n",
    "            minha_rodada = 5\n",
    "            jogador_pts += minha_rodada\n",
    "            comp_rodada = 5\n",
    "            comp_pts += comp_rodada\n",
    "\n",
    "\n",
    "        print(f'\\nResultado dessa interação:  \\nsua perda => {minha_rodada} \\nperda do outro jogador => {comp_rodada}') \n",
    "        \n",
    "        rodadas +=1\n",
    "        \n",
    "    print(f'\\nFim da partida!')\n",
    "    sleep(1.5)\n",
    "    \n",
    "    print(f'\\nNesta últiima partida, você perdeu {jogador_pts} pontos com as interações, uma média de {round(jogador_pts/rodadas,1)} por rodada')   \n",
    "    print(f'\\nEnquanto o computador  {comp_pts} pontos, média de {round(comp_pts/rodadas,1)} por rodada')\n",
    "   \n",
    "\n",
    "    jogar = str(input('\\nDeseja jogar outra? '\n",
    "                      '[S/N] ')).upper().strip()[0]\n",
    "   \n",
    "    # aponta necessidade de outra entrada\n",
    "    while jogar not in 'SN':\n",
    "        jogar = str(input('Digite um dado válido. Deseja continuar a jogar? [S/N] ')).upper().strip()[0]\n",
    "    \n",
    "    dados_resultado_partida.append(dados_resultado_rodada)\n",
    "    \n",
    "    \n",
    "\n",
    "else:\n",
    "    \n",
    "    \n",
    "    print(f'\\nToma conselhos com o vinho, mas toma decisões com a água.\\nAté uma próxima!')\n",
    "   \n",
    "    \n",
    "    "
   ]
  },
  {
   "cell_type": "code",
   "execution_count": 66,
   "id": "e8792526",
   "metadata": {},
   "outputs": [
    {
     "data": {
      "text/plain": [
       "[0.15, 0.85]"
      ]
     },
     "execution_count": 66,
     "metadata": {},
     "output_type": "execute_result"
    }
   ],
   "source": [
    "tipos={'computador_ingenuo':[0.75,0.25],\n",
    "       'computador_malandrao':[0.15,0.85],\n",
    "       'computador_neutro':[0.5,0.5]\n",
    "      }\n",
    "\n",
    "computador = choices(list(tipos.keys()),[0.33,0.33,0.34], k=1)[0]\n",
    "\n",
    "tipos[computador]\n",
    "    \n"
   ]
  },
  {
   "cell_type": "code",
   "execution_count": 49,
   "id": "f6f1fe24",
   "metadata": {},
   "outputs": [
    {
     "data": {
      "text/plain": [
       "dict_keys"
      ]
     },
     "execution_count": 49,
     "metadata": {},
     "output_type": "execute_result"
    }
   ],
   "source": [
    "type(tipos.keys())"
   ]
  },
  {
   "cell_type": "code",
   "execution_count": 11,
   "id": "28dc637e",
   "metadata": {},
   "outputs": [
    {
     "name": "stdout",
     "output_type": "stream",
     "text": [
      "Help on method randint in module random:\n",
      "\n",
      "randint(a, b) method of random.Random instance\n",
      "    Return random integer in range [a, b], including both end points.\n",
      "\n"
     ]
    }
   ],
   "source": [
    "help(randint)"
   ]
  },
  {
   "cell_type": "code",
   "execution_count": null,
   "id": "70c8232f",
   "metadata": {},
   "outputs": [],
   "source": []
  }
 ],
 "metadata": {
  "kernelspec": {
   "display_name": "Python 3 (ipykernel)",
   "language": "python",
   "name": "python3"
  },
  "language_info": {
   "codemirror_mode": {
    "name": "ipython",
    "version": 3
   },
   "file_extension": ".py",
   "mimetype": "text/x-python",
   "name": "python",
   "nbconvert_exporter": "python",
   "pygments_lexer": "ipython3",
   "version": "3.9.12"
  },
  "toc": {
   "base_numbering": 1,
   "nav_menu": {},
   "number_sections": true,
   "sideBar": true,
   "skip_h1_title": false,
   "title_cell": "Table of Contents",
   "title_sidebar": "Contents",
   "toc_cell": false,
   "toc_position": {},
   "toc_section_display": true,
   "toc_window_display": false
  },
  "varInspector": {
   "cols": {
    "lenName": 16,
    "lenType": 16,
    "lenVar": 40
   },
   "kernels_config": {
    "python": {
     "delete_cmd_postfix": "",
     "delete_cmd_prefix": "del ",
     "library": "var_list.py",
     "varRefreshCmd": "print(var_dic_list())"
    },
    "r": {
     "delete_cmd_postfix": ") ",
     "delete_cmd_prefix": "rm(",
     "library": "var_list.r",
     "varRefreshCmd": "cat(var_dic_list()) "
    }
   },
   "types_to_exclude": [
    "module",
    "function",
    "builtin_function_or_method",
    "instance",
    "_Feature"
   ],
   "window_display": false
  }
 },
 "nbformat": 4,
 "nbformat_minor": 5
}
