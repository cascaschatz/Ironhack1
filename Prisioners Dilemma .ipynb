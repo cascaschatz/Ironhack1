{
 "cells": [
  {
   "cell_type": "code",
<<<<<<< HEAD
   "execution_count": 79,
=======
   "execution_count": 1,
>>>>>>> 2a6541248143ed6a8ca9059268b3608fb8bf23aa
   "id": "d1243d16",
   "metadata": {
    "ExecuteTime": {
     "end_time": "2022-10-24T19:22:20.298274Z",
     "start_time": "2022-10-24T19:20:01.684115Z"
    }
   },
   "outputs": [
    {
     "name": "stdout",
     "output_type": "stream",
     "text": [
      "Dois suspeitos, A e B, são presos pela polícia. Você é o suspeito A. A polícia tem provas insuficientes para os condenar, mas, separando os prisioneiros, oferece a ambos o mesmo acordo: se um dos prisioneiros, confessando, testemunhar contra o outro e esse outro permanecer em silêncio, o que confessou sai livre enquanto o cúmplice silencioso cumpre 10 anos de sentença. Se ambos ficarem em silêncio, a polícia só pode condená-los a 1 ano de cadeia cada um. Se ambos traírem o comparsa, cada um leva 5 anos de cadeia. Cada prisioneiro toma a decisão sem saber que decisão o outro vai tomar, e nenhum tem certeza da decisão do outro. A questão que o dilema propõe é: o que vai acontecer? Como o prisioneiro vai reagir?\n",
      "\n",
      "\n",
      "\n",
      "Rodada 1\n",
      "Escolha sua ação: Silêncio (1) ou Trairagem (2)? 1\n",
      "\u001b[31mTCHAN\u001b[m\n",
      "\u001b[31mTCHAN\u001b[m\n",
      "\u001b[31mTCHAN RAN!!!\u001b[m\n",
      "\n",
      "Resultado dessa interação:  \n",
      "sua perda => 10 \n",
      "perda do outro jogador => 0\n",
      "\n",
      "\n",
      "\n",
      "Rodada 2\n",
      "Escolha sua ação: Silêncio (1) ou Trairagem (2)? 1\n",
      "\u001b[31mTCHAN\u001b[m\n",
      "\u001b[31mTCHAN\u001b[m\n",
      "\u001b[31mTCHAN RAN!!!\u001b[m\n",
      "\n",
      "Resultado dessa interação:  \n",
      "sua perda => 10 \n",
      "perda do outro jogador => 0\n",
      "\n",
      "\n",
      "\n",
      "Rodada 3\n",
      "Escolha sua ação: Silêncio (1) ou Trairagem (2)? 1\n",
      "\u001b[31mTCHAN\u001b[m\n",
      "\u001b[31mTCHAN\u001b[m\n",
      "\u001b[31mTCHAN RAN!!!\u001b[m\n",
      "\n",
      "Resultado dessa interação:  \n",
      "sua perda => 10 \n",
      "perda do outro jogador => 0\n",
<<<<<<< HEAD
      "\n",
      "Fim da partida!\n",
      "\n",
      "Nesta últiima partida, você perdeu 30 pontos com as interações, uma média de 7.5 por rodada\n",
      "\n",
      "Enquanto o computador  0 pontos, média de 0.0 por rodada\n",
      "\n",
      "Deseja jogar outra? [S/N] s\n",
      "Dois suspeitos, A e B, são presos pela polícia. Você é o suspeito A. A polícia tem provas insuficientes para os condenar, mas, separando os prisioneiros, oferece a ambos o mesmo acordo: se um dos prisioneiros, confessando, testemunhar contra o outro e esse outro permanecer em silêncio, o que confessou sai livre enquanto o cúmplice silencioso cumpre 10 anos de sentença. Se ambos ficarem em silêncio, a polícia só pode condená-los a 1 ano de cadeia cada um. Se ambos traírem o comparsa, cada um leva 5 anos de cadeia. Cada prisioneiro toma a decisão sem saber que decisão o outro vai tomar, e nenhum tem certeza da decisão do outro. A questão que o dilema propõe é: o que vai acontecer? Como o prisioneiro vai reagir?\n",
=======
>>>>>>> 2a6541248143ed6a8ca9059268b3608fb8bf23aa
      "\n",
      "\n",
      "\n",
      "Rodada 1\n",
      "Escolha sua ação: Silêncio (1) ou Trairagem (2)? 1\n",
      "\u001b[31mTCHAN\u001b[m\n",
      "\u001b[31mTCHAN\u001b[m\n",
      "\u001b[31mTCHAN RAN!!!\u001b[m\n",
      "\n",
      "Resultado dessa interação:  \n",
      "sua perda => 10 \n",
      "perda do outro jogador => 0\n",
      "\n",
      "\n",
      "\n",
      "Rodada 2\n",
      "Escolha sua ação: Silêncio (1) ou Trairagem (2)? 1\n",
      "\u001b[31mTCHAN\u001b[m\n",
      "\u001b[31mTCHAN\u001b[m\n",
      "\u001b[31mTCHAN RAN!!!\u001b[m\n",
      "\n",
      "Resultado dessa interação:  \n",
      "sua perda => 10 \n",
      "perda do outro jogador => 0\n",
      "\n",
      "\n",
      "\n",
      "Rodada 3\n",
      "Escolha sua ação: Silêncio (1) ou Trairagem (2)? 2\n",
      "\u001b[31mTCHAN\u001b[m\n",
      "\u001b[31mTCHAN\u001b[m\n",
      "\u001b[31mTCHAN RAN!!!\u001b[m\n",
      "\n",
      "Resultado dessa interação:  \n",
      "sua perda => 5 \n",
      "perda do outro jogador => 5\n",
      "\n",
      "\n",
      "\n",
      "Rodada 4\n",
      "Escolha sua ação: Silêncio (1) ou Trairagem (2)? 1\n",
      "\u001b[31mTCHAN\u001b[m\n",
      "\u001b[31mTCHAN\u001b[m\n",
      "\u001b[31mTCHAN RAN!!!\u001b[m\n",
      "\n",
      "Resultado dessa interação:  \n",
      "sua perda => 10 \n",
      "perda do outro jogador => 0\n",
      "\n",
      "\n",
      "\n",
      "Rodada 5\n",
<<<<<<< HEAD
      "Escolha sua ação: Silêncio (1) ou Trairagem (2)? 2\n",
=======
      "Escolha sua ação: Silêncio (1) ou Trairagem (2)? 1\n",
      "\u001b[31mTCHAN\u001b[m\n",
      "\u001b[31mTCHAN\u001b[m\n",
      "\u001b[31mTCHAN RAN!!!\u001b[m\n",
      "\n",
      "Resultado dessa interação:  \n",
      "sua perda => 10 \n",
      "perda do outro jogador => 0\n",
      "\n",
      "\n",
      "\n",
      "Rodada 6\n",
      "Escolha sua ação: Silêncio (1) ou Trairagem (2)? 1\n",
>>>>>>> 2a6541248143ed6a8ca9059268b3608fb8bf23aa
      "\u001b[31mTCHAN\u001b[m\n",
      "\u001b[31mTCHAN\u001b[m\n",
      "\u001b[31mTCHAN RAN!!!\u001b[m\n",
      "\n",
      "Resultado dessa interação:  \n",
      "sua perda => 10 \n",
      "perda do outro jogador => 0\n",
      "\n",
      "\n",
      "\n",
      "Rodada 6\n",
      "Escolha sua ação: Silêncio (1) ou Trairagem (2)? 1\n",
      "\u001b[31mTCHAN\u001b[m\n",
      "\u001b[31mTCHAN\u001b[m\n",
      "\u001b[31mTCHAN RAN!!!\u001b[m\n",
      "\n",
      "Resultado dessa interação:  \n",
      "sua perda => 10 \n",
      "perda do outro jogador => 0\n",
      "\n",
      "\n",
      "\n",
      "Rodada 7\n",
      "Escolha sua ação: Silêncio (1) ou Trairagem (2)? 1\n",
      "\u001b[31mTCHAN\u001b[m\n",
      "\u001b[31mTCHAN\u001b[m\n",
      "\u001b[31mTCHAN RAN!!!\u001b[m\n",
      "\n",
      "Resultado dessa interação:  \n",
<<<<<<< HEAD
      "sua perda => 5 \n",
      "perda do outro jogador => 5\n",
      "\n",
      "Fim da partida!\n",
      "\n",
      "Nesta últiima partida, você perdeu 85 pontos com as interações, uma média de 10.6 por rodada\n",
      "\n",
      "Enquanto o computador  15 pontos, média de 1.9 por rodada\n",
=======
      "sua perda => 10 \n",
      "perda do outro jogador => 0\n",
      "\n",
      "Fim da partida!\n",
      "\n",
      "Nesta últiima partida, você perdeu 70 pontos com as interações, uma média de 8.8 por rodada\n",
      "\n",
      "Enquanto o computador  0 pontos, média de 0.0 por rodada\n",
>>>>>>> 2a6541248143ed6a8ca9059268b3608fb8bf23aa
      "\n",
      "Deseja jogar outra? [S/N] n\n",
      "\n",
      "Toma conselhos com o vinho, mas toma decisões com a água.\n",
      "Até uma próxima!\n"
     ]
    }
   ],
   "source": [
    "from random import choices, randint\n",
    "from time import sleep\n",
    "\n",
    "#'''\n",
    "#este é o jogo tal... funciona assim...\n",
    "#'''\n",
    "\n",
    "jogar = 'S'\n",
    "jogador_pts = comp_pts = rodadas = 0\n",
    "\n",
    "\n",
    "# define diferentes perfis de comportamento para o computador \n",
    "\n",
    "tipos={'computador_ingenuo':[0.75,0.25],\n",
    "       'computador_malandrao':[0.15,0.85],\n",
    "       'computador_neutro':[0.5,0.5]\n",
    "      }\n",
    "\n",
    "\n",
    "#####-----Qual erro de entrada?\n",
    "# cerca erro de entrada\n",
    "lista = [1,2]\n",
    "\n",
    "\n",
    "# armazena dados para análise \n",
    "\n",
    "dados_resultado_rodada = dados_resultado_partida = []    \n",
    "\n",
    "while jogar == 'S':\n",
    "\n",
    "    \n",
    "    print(f'Dois suspeitos, A e B, são presos pela polícia. Você é o suspeito A. A polícia tem provas insuficientes para os condenar, mas, separando os prisioneiros, oferece a ambos o mesmo acordo: se um dos prisioneiros, confessando, testemunhar contra o outro e esse outro permanecer em silêncio, o que confessou sai livre enquanto o cúmplice silencioso cumpre 10 anos de sentença. Se ambos ficarem em silêncio, a polícia só pode condená-los a 1 ano de cadeia cada um. Se ambos traírem o comparsa, cada um leva 5 anos de cadeia. Cada prisioneiro toma a decisão sem saber que decisão o outro vai tomar, e nenhum tem certeza da decisão do outro. A questão que o dilema propõe é: o que vai acontecer? Como o prisioneiro vai reagir?')  \n",
    "    # define, aleatoriamente, a quantidade de rodadas da partida\n",
    "    n_jogadas = randint(1,7) \n",
    "    rodadas=1\n",
    "    \n",
    "    # escolhe um dos perfis de comportamento para o computador adotar na partida \n",
    "    computador = choices(list(tipos.keys()),[0.33,0.33,0.34], k=1)[0] \n",
    "    \n",
    "    \n",
    "    # monta loop para uma partida com n_jogadas\n",
    "    for rod in range(n_jogadas):   \n",
    "        \n",
    "        # define a posição do oponente para a rodada \n",
    "        computador_escolha = choices([0, 1],tipos[computador], k=1)[0]\n",
    "        \n",
    "        \n",
    "        # define a posição do jogador humano\n",
    "        \n",
    "        jogadorI = ''\n",
    "        print(f'\\n\\n\\nRodada {rodadas}')\n",
    "#####-----Seria interessante inserir um tratamento do input caso o usuário insira um valor não numérico\n",
    "        jogadorI = int(input('Escolha sua ação: Silêncio (1) ou Trairagem (2)? '))                      \n",
    "        \n",
    "        # trata erro para a entrada do usuário e inclui delay para o jogo ganhar em mistério\n",
    "        \n",
    "        while jogadorI not in [1,2]:\n",
    "            jogadorI = int(input('Digite um valor válido [1 ou 2]. Qual é a sua jogada? '))\n",
    "        print('\\033[31mTCHAN\\033[m')\n",
    "        sleep(.9)\n",
    "        print('\\033[31mTCHAN\\033[m')\n",
    "        sleep(.9)\n",
    "        print('\\033[31mTCHAN RAN!!!\\033[m')\n",
    "     \n",
    "        \n",
    "####-----Poderia explicar melhor o que o bloco de código abaixo faz\n",
    "        if jogadorI == 1:\n",
    "            jogador = 0\n",
    "        else: jogador =1\n",
    "            \n",
    "            \n",
    "        #resultado da rodada\n",
    "        resultado = (jogador,computador_escolha)\n",
    "        dados_resultado_rodada.append(resultado)\n",
    "        \n",
    "        \n",
    "        \n",
    "        if resultado == (0,0):   #atribui pontos para a rodada e para o total de interações\n",
    "            minha_rodada = 1\n",
    "            jogador_pts += minha_rodada\n",
    "            comp_rodada = 1\n",
    "            comp_pts += comp_rodada\n",
    "\n",
    "    \n",
    "        elif resultado == (0,1):\n",
    "            minha_rodada = 10\n",
    "            jogador_pts += minha_rodada\n",
    "            comp_rodada = 0\n",
    "            comp_pts += comp_rodada\n",
    "\n",
    "\n",
    "\n",
    "        elif resultado == (1,0):\n",
    "            minha_rodada = 0\n",
    "            jogador_pts += minha_rodada\n",
    "            comp_rodada = 10\n",
    "            comp_pts += comp_rodada\n",
    "\n",
    "\n",
    "        else: \n",
    "            minha_rodada = 5\n",
    "            jogador_pts += minha_rodada\n",
    "            comp_rodada = 5\n",
    "            comp_pts += comp_rodada\n",
    "\n",
    "\n",
    "        print(f'\\nResultado dessa interação:  \\nsua perda => {minha_rodada} \\nperda do outro jogador => {comp_rodada}') \n",
    "        \n",
    "        rodadas +=1\n",
    "        \n",
    "    print(f'\\nFim da partida!')\n",
    "    sleep(1.5)\n",
    "#####----- verificar o que está acontencendo com a variável 'rodadas' ela parece estar retornando um valor uma unidade maior do que deveria    \n",
    "    print(f'\\nNesta últiima partida, você perdeu {jogador_pts} pontos com as interações, uma média de {round(jogador_pts/rodadas,1)} por rodada')   \n",
    "    print(f'\\nEnquanto o computador  {comp_pts} pontos, média de {round(comp_pts/rodadas,1)} por rodada')\n",
    "   \n",
    "\n",
    "    jogar = str(input('\\nDeseja jogar outra? '\n",
    "                      '[S/N] ')).upper().strip()[0]\n",
    "   \n",
    "    # aponta necessidade de outra entrada\n",
    "    while jogar not in 'SN':\n",
    "        jogar = str(input('Digite um dado válido. Deseja continuar a jogar? [S/N] ')).upper().strip()[0]\n",
    "    \n",
    "    dados_resultado_partida.append(dados_resultado_rodada)\n",
    "    \n",
    "    \n",
    "\n",
    "else:\n",
    "    \n",
    "    \n",
    "    print(f'\\nToma conselhos com o vinho, mas toma decisões com a água.\\nAté uma próxima!')\n",
    "   \n",
    "    \n",
    "    "
   ]
  },
  {
<<<<<<< HEAD
   "cell_type": "markdown",
   "id": "ab104672",
   "metadata": {},
=======
   "cell_type": "code",
   "execution_count": 2,
   "id": "d7e51475",
   "metadata": {
    "ExecuteTime": {
     "end_time": "2022-10-24T19:22:20.329190Z",
     "start_time": "2022-10-24T19:22:20.301265Z"
    }
   },
   "outputs": [
    {
     "data": {
      "text/plain": [
       "[0.15, 0.85]"
      ]
     },
     "execution_count": 2,
     "metadata": {},
     "output_type": "execute_result"
    }
   ],
>>>>>>> 2a6541248143ed6a8ca9059268b3608fb8bf23aa
   "source": [
    "# tipos={'computador_ingenuo':[0.75,0.25],\n",
    "       'computador_malandrao':[0.15,0.85],\n",
    "       'computador_neutro':[0.5,0.5]\n",
    "      }\n",
    "\n",
    "computador = choices(list(tipos.keys()),[0.33,0.33,0.34], k=1)[0]\n",
    "\n",
    "tipos[computador]\n",
    "    \n"
   ]
  },
  {
   "cell_type": "code",
   "execution_count": 3,
   "id": "8c3644e6",
   "metadata": {
    "ExecuteTime": {
     "end_time": "2022-10-24T19:22:20.360107Z",
     "start_time": "2022-10-24T19:22:20.337171Z"
    }
   },
   "outputs": [
    {
     "data": {
      "text/plain": [
       "dict_keys"
      ]
     },
     "execution_count": 3,
     "metadata": {},
     "output_type": "execute_result"
    }
   ],
   "source": [
    "type(tipos.keys())"
   ]
  },
  {
   "cell_type": "code",
   "execution_count": 4,
   "id": "fba385a2",
   "metadata": {
    "ExecuteTime": {
     "end_time": "2022-10-24T19:22:20.375067Z",
     "start_time": "2022-10-24T19:22:20.363101Z"
    }
   },
   "outputs": [
    {
     "name": "stdout",
     "output_type": "stream",
     "text": [
      "Help on method randint in module random:\n",
      "\n",
      "randint(a, b) method of random.Random instance\n",
      "    Return random integer in range [a, b], including both end points.\n",
      "\n"
     ]
    }
   ],
   "source": [
    "help(randint)"
   ]
  },
  {
   "cell_type": "code",
   "execution_count": null,
   "id": "39f91143",
   "metadata": {},
   "outputs": [],
   "source": []
  },
  {
   "cell_type": "code",
   "execution_count": null,
   "id": "ee9edb44",
   "metadata": {},
   "outputs": [],
   "source": []
  }
 ],
 "metadata": {
  "kernelspec": {
   "display_name": "Python 3 (ipykernel)",
   "language": "python",
   "name": "python3"
  },
  "language_info": {
   "codemirror_mode": {
    "name": "ipython",
    "version": 3
   },
   "file_extension": ".py",
   "mimetype": "text/x-python",
   "name": "python",
   "nbconvert_exporter": "python",
   "pygments_lexer": "ipython3",
   "version": "3.9.12"
  },
  "toc": {
   "base_numbering": 1,
   "nav_menu": {},
   "number_sections": true,
   "sideBar": true,
   "skip_h1_title": false,
   "title_cell": "Table of Contents",
   "title_sidebar": "Contents",
   "toc_cell": false,
   "toc_position": {},
   "toc_section_display": true,
   "toc_window_display": false
  },
  "varInspector": {
   "cols": {
    "lenName": 16,
    "lenType": 16,
    "lenVar": 40
   },
   "kernels_config": {
    "python": {
     "delete_cmd_postfix": "",
     "delete_cmd_prefix": "del ",
     "library": "var_list.py",
     "varRefreshCmd": "print(var_dic_list())"
    },
    "r": {
     "delete_cmd_postfix": ") ",
     "delete_cmd_prefix": "rm(",
     "library": "var_list.r",
     "varRefreshCmd": "cat(var_dic_list()) "
    }
   },
   "types_to_exclude": [
    "module",
    "function",
    "builtin_function_or_method",
    "instance",
    "_Feature"
   ],
   "window_display": false
  },
  "vscode": {
   "interpreter": {
    "hash": "3763ad9f89648d847e6f5401e1219410b4a0054c5a073f5da0c68452446768ec"
   }
  }
 },
 "nbformat": 4,
 "nbformat_minor": 5
}
